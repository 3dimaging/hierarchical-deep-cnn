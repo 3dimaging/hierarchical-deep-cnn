{
 "cells": [
  {
   "cell_type": "markdown",
   "metadata": {},
   "source": [
    "# Convolutional Neural Networks For Image Recognition"
   ]
  },
  {
   "cell_type": "markdown",
   "metadata": {},
   "source": [
    "## Setup and Imports"
   ]
  },
  {
   "cell_type": "code",
   "execution_count": 1,
   "metadata": {
    "collapsed": false
   },
   "outputs": [],
   "source": [
    "# Setup\n",
    "from __future__ import division, print_function, unicode_literals\n",
    "\n",
    "# Imports\n",
    "import numpy as np\n",
    "import numpy.random as rnd\n",
    "import os\n",
    "\n",
    "# To make make consistent across code blocks\n",
    "rnd.seed(42)\n",
    "\n",
    "# Ploting\n",
    "%matplotlib inline\n",
    "import matplotlib\n",
    "import matplotlib.pyplot as plt\n",
    "plt.rcParams['axes.labelsize'] = 14\n",
    "plt.rcParams['xtick.labelsize'] = 12\n",
    "plt.rcParams['ytick.labelsize'] = 12\n",
    "\n",
    "# Saving Parameters\n",
    "PROJECT_ROOT_DIR = \".\"\n",
    "CHAPTER_ID = \"cnn\"\n",
    "\n",
    "def save_fig(fig_id, tight_layout=True):\n",
    "    path = os.path.join(PROJECT_ROOT_DIR, \"data\", CHAPTER_ID, fig_id + \".png\")\n",
    "    print(\"Saving figure\", fig_id)\n",
    "    if tight_layout:\n",
    "        plt.tight_layout()\n",
    "    plt.savefig(path, format='png', dpi=300)"
   ]
  },
  {
   "cell_type": "markdown",
   "metadata": {},
   "source": [
    "**Import Tensorflow**"
   ]
  },
  {
   "cell_type": "code",
   "execution_count": 3,
   "metadata": {
    "collapsed": true
   },
   "outputs": [],
   "source": [
    "import tensorflow as tf"
   ]
  },
  {
   "cell_type": "markdown",
   "metadata": {},
   "source": [
    "**Images Plot Functions**"
   ]
  },
  {
   "cell_type": "code",
   "execution_count": 2,
   "metadata": {
    "collapsed": true
   },
   "outputs": [],
   "source": [
    "#Ploting grayscale and RGB images\n",
    "def plot_image(image):\n",
    "    plt.imshow(image, interpolation=\"nearest\")\n",
    "    plt.axis(\"off\")\n",
    "\n",
    "# Reshapes a 1024x3 image to plot it as a 32x32x3 image\n",
    "def plot_image_adjust(image_adj, height, width, channels):\n",
    "    # Create array for image\n",
    "    data = np.zeros((height, width, channels))\n",
    "    for k in range(channels):\n",
    "        for j in range(width):\n",
    "            for l in range(height):\n",
    "                data[j][l][k] = image_adj[int(l + j*32)][k] / 255\n",
    "    plt.imshow(data, interpolation=\"nearest\")\n",
    "    plt.axis(\"off\")"
   ]
  },
  {
   "cell_type": "markdown",
   "metadata": {},
   "source": [
    "**Data Loading Functions**"
   ]
  },
  {
   "cell_type": "code",
   "execution_count": 44,
   "metadata": {
    "collapsed": false,
    "scrolled": false
   },
   "outputs": [],
   "source": [
    "# Loads and Decodes Data\n",
    "def unpickle(file):\n",
    "    import pickle\n",
    "    with open(file, 'rb') as fo:\n",
    "        dict = pickle.load(fo, encoding='bytes')\n",
    "    return dict\n",
    "\n",
    "# Takes in the local path of the data file and returns an array of data\n",
    "# Assumes data is in the format oulined by cifar 100\n",
    "# For more info, checkout: https://www.cs.toronto.edu/~kriz/cifar.html\n",
    "def load_data(path, length, channels, reduced):\n",
    "    train = unpickle(path)\n",
    "    \n",
    "    # --------------------------------------------------------------------\n",
    "    # Restrict data used to only that with coarse labels 5 or 6\n",
    "    # Corresponding to Household Electronics and Furniture\n",
    "    # --------------------------------------------------------------------\n",
    "    if(reduced):\n",
    "        L1 = 5 # Desired label - household electronics\n",
    "        L2 = 6 # Desired label - household furniture\n",
    "\n",
    "        # Find length of reduced data set\n",
    "        count = 0\n",
    "        for i in range(len(train[b'data'])):\n",
    "             if train[b'coarse_labels'][i]==L1 or train[b'coarse_labels'][i]==L2:\n",
    "                count += 1\n",
    "\n",
    "        # Create arrays for our data and labels to be held in\n",
    "        data = np.zeros((count, length, channels))\n",
    "        labels = np.zeros((count, 2))\n",
    "\n",
    "        # Store file data in arrays data and labels if it matches the\n",
    "        # reduced set parameters\n",
    "        count = 0;\n",
    "        for i in range(len(train[b'data'])):\n",
    "            if train[b'coarse_labels'][i]==L1 or train[b'coarse_labels'][i]==L2:\n",
    "                \n",
    "                for j in range(channels):\n",
    "                    for k in range(length):\n",
    "                        data[count][k][j] = train[b'data'][i][k+j*1024]\n",
    "                labels[count][0] = train[b'coarse_labels'][i]\n",
    "                labels[count][1] = train[b'fine_labels'][i]\n",
    "                count += 1\n",
    "    \n",
    "    # Otherwise return full data set           \n",
    "    else:\n",
    "        data = train[b'data']\n",
    "        labels = [train[b'coarse_labels'], train[b'fine_labels']]\n",
    "    \n",
    "    # Return data and 2D Labels [coarse, fine]\n",
    "    return data, data2, labels"
   ]
  },
  {
   "cell_type": "markdown",
   "metadata": {},
   "source": [
    "**Load Train Data**"
   ]
  },
  {
   "cell_type": "code",
   "execution_count": 45,
   "metadata": {
    "collapsed": true
   },
   "outputs": [],
   "source": [
    "# Define paths and dimensions for data\n",
    "train_path = \"data/cifar-100-python/train\"\n",
    "length = 1024\n",
    "channels = 3\n",
    "reduced = True\n",
    "\n",
    "# Get the reduced set of data and store it in data and labels\n",
    "data, labels = load_data(train_path, length, channels, reduced)"
   ]
  },
  {
   "cell_type": "markdown",
   "metadata": {},
   "source": [
    "**Load Test Data**"
   ]
  },
  {
   "cell_type": "code",
   "execution_count": 40,
   "metadata": {
    "collapsed": false
   },
   "outputs": [],
   "source": [
    "test_path  = \"data/cifar-100-python/test\"\n",
    "\n",
    "test_data, test_labels = load_data(test_path, length, channels, reduced)"
   ]
  },
  {
   "cell_type": "markdown",
   "metadata": {},
   "source": [
    "**Data Verification**"
   ]
  },
  {
   "cell_type": "code",
   "execution_count": 42,
   "metadata": {
    "collapsed": false
   },
   "outputs": [
    {
     "name": "stdout",
     "output_type": "stream",
     "text": [
      "[  5.  86.]\n"
     ]
    },
    {
     "data": {
      "image/png": "[encoded data removed]",
      "text/plain": [
       "<matplotlib.figure.Figure at 0x1346270b8>"
      ]
     },
     "metadata": {},
     "output_type": "display_data"
    }
   ],
   "source": [
    "# Print out the label and picture of the first element of training data as a check\n",
    "print(labels[0])\n",
    "plot_image_adjust(data[0], 32, 32, 3)\n",
    "\n",
    "# Print out the label and picture of the first element of testing data as a check\n",
    "print(test_labels[0])\n",
    "plot_image_adjust(test_data[0], 32, 32, 3)"
   ]
  }
 ],
 "metadata": {
  "kernelspec": {
   "display_name": "Python 3",
   "language": "python",
   "name": "python3"
  },
  "language_info": {
   "codemirror_mode": {
    "name": "ipython",
    "version": 3
   },
   "file_extension": ".py",
   "mimetype": "text/x-python",
   "name": "python",
   "nbconvert_exporter": "python",
   "pygments_lexer": "ipython3",
   "version": "3.5.2"
  },
  "toc": {
   "colors": {
    "hover_highlight": "#DAA520",
    "running_highlight": "#FF0000",
    "selected_highlight": "#FFD700"
   },
   "moveMenuLeft": true,
   "nav_menu": {
    "height": "12px",
    "width": "252px"
   },
   "navigate_menu": true,
   "number_sections": true,
   "sideBar": true,
   "threshold": 4,
   "toc_cell": false,
   "toc_section_display": "block",
   "toc_window_display": false,
   "widenNotebook": false
  }
 },
 "nbformat": 4,
 "nbformat_minor": 2
}
