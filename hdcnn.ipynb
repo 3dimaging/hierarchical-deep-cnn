{
 "cells": [
  {
   "cell_type": "markdown",
   "metadata": {},
   "source": [
    "# Convolutional Neural Networks For Image Recognition"
   ]
  },
  {
   "cell_type": "markdown",
   "metadata": {},
   "source": [
    "## Setup and Imports"
   ]
  },
  {
   "cell_type": "code",
   "execution_count": 1,
   "metadata": {
    "collapsed": true
   },
   "outputs": [],
   "source": [
    "# Setup\n",
    "from __future__ import division, print_function, unicode_literals\n",
    "\n",
    "# Imports\n",
    "import numpy as np\n",
    "import numpy.random as rnd\n",
    "import os\n",
    "\n",
    "# To make make consistent across code blocks\n",
    "rnd.seed(42)\n",
    "\n",
    "# Ploting\n",
    "%matplotlib inline\n",
    "import matplotlib\n",
    "import matplotlib.pyplot as plt\n",
    "plt.rcParams['axes.labelsize'] = 14\n",
    "plt.rcParams['xtick.labelsize'] = 12\n",
    "plt.rcParams['ytick.labelsize'] = 12\n",
    "\n",
    "# Saving Parameters\n",
    "PROJECT_ROOT_DIR = \".\"\n",
    "CHAPTER_ID = \"cnn\"\n",
    "\n",
    "def save_fig(fig_id, tight_layout=True):\n",
    "    path = os.path.join(PROJECT_ROOT_DIR, \"data\", CHAPTER_ID, fig_id + \".png\")\n",
    "    print(\"Saving figure\", fig_id)\n",
    "    if tight_layout:\n",
    "        plt.tight_layout()\n",
    "    plt.savefig(path, format='png', dpi=300)"
   ]
  },
  {
   "cell_type": "markdown",
   "metadata": {},
   "source": [
    "**Import Keras**"
   ]
  },
  {
   "cell_type": "code",
   "execution_count": 2,
   "metadata": {},
   "outputs": [
    {
     "name": "stderr",
     "output_type": "stream",
     "text": [
      "Using TensorFlow backend.\n"
     ]
    }
   ],
   "source": [
    "import keras as kr"
   ]
  },
  {
   "cell_type": "markdown",
   "metadata": {},
   "source": [
    "# Convolutional Neural Network"
   ]
  },
  {
   "cell_type": "markdown",
   "metadata": {},
   "source": [
    "**Load Coarse-To-Fine Mappings**"
   ]
  },
  {
   "cell_type": "code",
   "execution_count": 3,
   "metadata": {
    "collapsed": true
   },
   "outputs": [],
   "source": [
    "# Get Coarse to Fine Mappings\n",
    "C2K = np.loadtxt('C2K.txt', dtype=int)\n",
    "C2K_dot = np.zeros((20,100))\n",
    "for i in range(len(C2K)):\n",
    "    C2K_dot[C2K[i], i] = 1\n",
    "\n",
    "#np.set_printoptions(threshold=np.inf)\n",
    "#print(C2K_dot)"
   ]
  },
  {
   "cell_type": "markdown",
   "metadata": {},
   "source": [
    "**Import Dataset**"
   ]
  },
  {
   "cell_type": "code",
   "execution_count": 4,
   "metadata": {
    "collapsed": true
   },
   "outputs": [],
   "source": [
    "from keras.datasets import cifar100\n",
    "(x_train, y_train), (x_test, y_test) = cifar100.load_data(label_mode='fine')"
   ]
  },
  {
   "cell_type": "code",
   "execution_count": 5,
   "metadata": {
    "collapsed": true
   },
   "outputs": [],
   "source": [
    "def to_one_hot(X):\n",
    "    n_values = np.max(X) + 1\n",
    "    y = np.eye(n_values)[X[:,0]]\n",
    "    return y\n",
    "\n",
    "y_train_adj = to_one_hot(y_train)\n",
    "y_test_adj  = to_one_hot(y_test)"
   ]
  },
  {
   "cell_type": "code",
   "execution_count": 6,
   "metadata": {},
   "outputs": [
    {
     "name": "stdout",
     "output_type": "stream",
     "text": [
      "(50000, 32, 32, 3)\n"
     ]
    }
   ],
   "source": [
    "print(np.shape(x_train))"
   ]
  },
  {
   "cell_type": "markdown",
   "metadata": {},
   "source": [
    "** Defining Structure**"
   ]
  },
  {
   "cell_type": "code",
   "execution_count": 7,
   "metadata": {
    "collapsed": true
   },
   "outputs": [],
   "source": [
    "def indep_layers(X):\n",
    "    net = Conv2D(6, 2, strides=1, activation='elu', padding='same')(X)\n",
    "    net = Dropout(0.25)(net)\n",
    "    net = Conv2D(6, 2, strides=1, activation='elu', padding='same')(net)\n",
    "    net = Dropout(0.25)(net)\n",
    "    net = Conv2D(6, 2, strides=1, activation='elu', padding='same')(net)\n",
    "    net = Flatten()(net)\n",
    "\n",
    "    net = Dense(256, activation='elu')(net)\n",
    "    net = Dropout(0.50)(net)\n",
    "    net = Dense(128, activation='elu')(net)\n",
    "    net = Dropout(0.25)(net)\n",
    "    net = Dense(100, activation='softmax')(net)\n",
    "    \n",
    "    return net"
   ]
  },
  {
   "cell_type": "code",
   "execution_count": 8,
   "metadata": {
    "collapsed": true
   },
   "outputs": [],
   "source": [
    "from __future__ import absolute_import\n",
    "\n",
    "from keras.layers import initializers\n",
    "from keras.layers import regularizers\n",
    "from keras.layers import constraints\n",
    "from keras.engine.topology import Layer\n",
    "from keras.engine.topology import InputSpec\n",
    "from keras import backend as K\n",
    "from keras.legacy import interfaces\n",
    "\n",
    "class Threshold(Layer):\n",
    "    \"\"\"Thresholded Rectified Linear Unit.\n",
    "    It follows:\n",
    "    `f(x) = 1 for x > theta`,\n",
    "    `f(x) = 0 otherwise`.\n",
    "    # Input shape\n",
    "        Arbitrary. Use the keyword argument `input_shape`\n",
    "        (tuple of integers, does not include the samples axis)\n",
    "        when using this layer as the first layer in a model.\n",
    "    # Output shape\n",
    "        Same shape as the input.\n",
    "    # Arguments\n",
    "        theta: float >= 0. Threshold value.\n",
    "    \"\"\"\n",
    "\n",
    "    def __init__(self, theta=.5, **kwargs):\n",
    "        super(Threshold, self).__init__(**kwargs)\n",
    "        self.theta = K.cast_to_floatx(theta)\n",
    "\n",
    "    def call(self, inputs, mask=None):\n",
    "        return K.cast(K.greater(inputs, self.theta), K.floatx())\n",
    "\n",
    "    def get_config(self):\n",
    "        config = {'theta': float(self.theta)}\n",
    "        base_config = super(Threshold, self).get_config()\n",
    "        return dict(list(base_config.items()) + list(config.items()))"
   ]
  },
  {
   "cell_type": "code",
   "execution_count": 9,
   "metadata": {
    "collapsed": true
   },
   "outputs": [],
   "source": [
    "def calc_inputs():\n",
    "    return [Input(shape=([100]), dtype='float32', name='c0'), \\\n",
    "        Input(shape=([100]), dtype='float32', name='c1'), \\\n",
    "        Input(shape=([100]), dtype='float32', name='c2'), \\\n",
    "        Input(shape=([100]), dtype='float32', name='c3'), \\\n",
    "        Input(shape=([100]), dtype='float32', name='c4'), \\\n",
    "        Input(shape=([100]), dtype='float32', name='c5'), \\\n",
    "        Input(shape=([100]), dtype='float32', name='c6'), \\\n",
    "        Input(shape=([100]), dtype='float32', name='c7'), \\\n",
    "        Input(shape=([100]), dtype='float32', name='c8'), \\\n",
    "        Input(shape=([100]), dtype='float32', name='c9'), \\\n",
    "        Input(shape=([100]), dtype='float32', name='c10'), \\\n",
    "        Input(shape=([100]), dtype='float32', name='c11'), \\\n",
    "        Input(shape=([100]), dtype='float32', name='c12'), \\\n",
    "        Input(shape=([100]), dtype='float32', name='c13'), \\\n",
    "        Input(shape=([100]), dtype='float32', name='c14'), \\\n",
    "        Input(shape=([100]), dtype='float32', name='c15'), \\\n",
    "        Input(shape=([100]), dtype='float32', name='c16'), \\\n",
    "        Input(shape=([100]), dtype='float32', name='c17'), \\\n",
    "        Input(shape=([100]), dtype='float32', name='c18'), \\\n",
    "        Input(shape=([100]), dtype='float32', name='c19')]"
   ]
  },
  {
   "cell_type": "code",
   "execution_count": 10,
   "metadata": {
    "collapsed": true
   },
   "outputs": [],
   "source": [
    "def calc_prob_ave(fine_pred, fine_to_coarse):\n",
    "    coarse_pred = Dot(1)([fine_pred,fine_to_coarse])\n",
    "    coarse_pred_adj = RepeatVector(100)(coarse_pred)\n",
    "    coarse_pred_adj = Flatten()(coarse_pred_adj)\n",
    "    prob_ave = Multiply()([fine_to_coarse, coarse_pred_adj])\n",
    "\n",
    "    return prob_ave\n",
    "\n",
    "def calc_threshold(fine_pred, fine_to_coarse, shared_layer):\n",
    "    coarse_pred = Dot(1)([fine_pred, fine_to_coarse])\n",
    "    coarse_pred_thresholded = Threshold()(coarse_pred)\n",
    "    threshold_adj = RepeatVector(12*8*8)(coarse_pred_thresholded)\n",
    "    threshold_adj = Reshape((8, 8, 12))(threshold_adj)\n",
    "    shared_layer_adj = Multiply()([shared_layer, threshold_adj])\n",
    "    \n",
    "    return shared_layer_adj"
   ]
  },
  {
   "cell_type": "code",
   "execution_count": 13,
   "metadata": {
    "scrolled": true
   },
   "outputs": [],
   "source": [
    "from keras.layers import Conv2D, MaxPooling2D, Input, Flatten, Dense, Dropout, Multiply, Add, Dot, RepeatVector, Reshape\n",
    "#from keras.layers.advanced_activations import relu\n",
    "from keras.backend import constant, relu\n",
    "from keras.models import Model\n",
    "\n",
    "coarse_categories = 20\n",
    "fine_categories = 100\n",
    "sigma = .01\n",
    "\n",
    "input_img = Input(shape=(32, 32, 3), dtype='float32', name='main_input')\n",
    "\n",
    "## SHARED LAYERS\n",
    "net_shared = Conv2D(24, (4, 4), strides=(1, 1), padding='same', activation='elu')(input_img)\n",
    "net_shared = MaxPooling2D((2, 2), padding='same')(net_shared)\n",
    "net_shared = Dropout(0.25)(net_shared)\n",
    "net_shared = Conv2D(12, (2, 2), strides=(1, 1), padding='same', activation='elu')(net_shared)\n",
    "net_shared = MaxPooling2D(pool_size=2, strides=2, padding='same')(net_shared)\n",
    "shared_output = Dropout(0.25)(net_shared)\n",
    "\n",
    "# COARSE CLASSIFIER\n",
    "# Get the coarse predictions from fine\n",
    "output_c = indep_layers(shared_output)\n",
    "\n",
    "c = calc_inputs()\n",
    "\n",
    "for i in range(20):\n",
    "    thresholded = calc_threshold(output_c, c[i], shared_output)\n",
    "    fine_output = indep_layers(thresholded)\n",
    "\n",
    "    prob_ave = calc_prob_ave(output_c, c[i])\n",
    "\n",
    "    weighted = Multiply()([fine_output, prob_ave])\n",
    "    \n",
    "    if i==0: output_f = weighted\n",
    "    else: output_f = Add()([weighted, output_f])\n",
    "\n",
    "model = Model(inputs=[input_img, c[0], c[1], c[2], c[3], c[4], c[5], c[6], c[7], c[8], c[9], c[10], c[11], c[12], c[13], c[14], c[15], c[16], c[17], c[18], c[19]], \n",
    "              outputs=output_f)\n",
    "model.compile(optimizer='adam',\n",
    "              loss='categorical_crossentropy',\n",
    "              metrics=['accuracy'])\n"
   ]
  },
  {
   "cell_type": "markdown",
   "metadata": {},
   "source": [
    "**Fit Training Data**"
   ]
  },
  {
   "cell_type": "code",
   "execution_count": 14,
   "metadata": {},
   "outputs": [
    {
     "name": "stdout",
     "output_type": "stream",
     "text": [
      "Train on 45000 samples, validate on 5000 samples\n",
      "Epoch 1/25\n",
      "45000/45000 [==============================] - 169s - loss: 0.1671 - acc: 0.0102 - val_loss: 1.1921e-07 - val_acc: 0.0084\n",
      "Epoch 2/25\n",
      "45000/45000 [==============================] - 154s - loss: 1.1921e-07 - acc: 0.0102 - val_loss: 1.1921e-07 - val_acc: 0.0084\n",
      "Epoch 3/25\n",
      "45000/45000 [==============================] - 153s - loss: 1.1921e-07 - acc: 0.0102 - val_loss: 1.1921e-07 - val_acc: 0.0084\n",
      "Epoch 4/25\n",
      "45000/45000 [==============================] - 153s - loss: 1.1921e-07 - acc: 0.0102 - val_loss: 1.1921e-07 - val_acc: 0.0084\n",
      "Epoch 5/25\n",
      "45000/45000 [==============================] - 153s - loss: 1.1921e-07 - acc: 0.0102 - val_loss: 1.1921e-07 - val_acc: 0.0084\n",
      "Epoch 6/25\n",
      "45000/45000 [==============================] - 153s - loss: 1.1921e-07 - acc: 0.0102 - val_loss: 1.1921e-07 - val_acc: 0.0084\n",
      "Epoch 7/25\n",
      "45000/45000 [==============================] - 152s - loss: 1.1921e-07 - acc: 0.0102 - val_loss: 1.1921e-07 - val_acc: 0.0084\n",
      "Epoch 8/25\n",
      "45000/45000 [==============================] - 154s - loss: 1.1921e-07 - acc: 0.0102 - val_loss: 1.1921e-07 - val_acc: 0.0084\n",
      "Epoch 9/25\n",
      "45000/45000 [==============================] - 154s - loss: 1.1921e-07 - acc: 0.0102 - val_loss: 1.1921e-07 - val_acc: 0.0084\n",
      "Epoch 10/25\n",
      "45000/45000 [==============================] - 152s - loss: 1.1921e-07 - acc: 0.0102 - val_loss: 1.1921e-07 - val_acc: 0.0084\n",
      "Epoch 11/25\n",
      "45000/45000 [==============================] - 152s - loss: 1.1921e-07 - acc: 0.0102 - val_loss: 1.1921e-07 - val_acc: 0.0084\n",
      "Epoch 12/25\n",
      "45000/45000 [==============================] - 152s - loss: 1.1921e-07 - acc: 0.0102 - val_loss: 1.1921e-07 - val_acc: 0.0084\n",
      "Epoch 13/25\n",
      "45000/45000 [==============================] - 154s - loss: 1.1921e-07 - acc: 0.0102 - val_loss: 1.1921e-07 - val_acc: 0.0084\n",
      "Epoch 14/25\n",
      "45000/45000 [==============================] - 151s - loss: 1.1921e-07 - acc: 0.0102 - val_loss: 1.1921e-07 - val_acc: 0.0084\n",
      "Epoch 15/25\n",
      "45000/45000 [==============================] - 154s - loss: 1.1921e-07 - acc: 0.0102 - val_loss: 1.1921e-07 - val_acc: 0.0084\n",
      "Epoch 16/25\n",
      "45000/45000 [==============================] - 153s - loss: 1.1921e-07 - acc: 0.0102 - val_loss: 1.1921e-07 - val_acc: 0.0084\n",
      "Epoch 17/25\n",
      "45000/45000 [==============================] - 153s - loss: 1.1921e-07 - acc: 0.0102 - val_loss: 1.1921e-07 - val_acc: 0.0084\n",
      "Epoch 18/25\n",
      "45000/45000 [==============================] - 153s - loss: 1.1921e-07 - acc: 0.0102 - val_loss: 1.1921e-07 - val_acc: 0.0084\n",
      "Epoch 19/25\n",
      "45000/45000 [==============================] - 155s - loss: 1.1921e-07 - acc: 0.0102 - val_loss: 1.1921e-07 - val_acc: 0.0084\n",
      "Epoch 20/25\n",
      "45000/45000 [==============================] - 155s - loss: 1.1921e-07 - acc: 0.0102 - val_loss: 1.1921e-07 - val_acc: 0.0084\n",
      "Epoch 21/25\n",
      "45000/45000 [==============================] - 168s - loss: 1.1921e-07 - acc: 0.0102 - val_loss: 1.1921e-07 - val_acc: 0.0084\n",
      "Epoch 22/25\n",
      "45000/45000 [==============================] - 163s - loss: 1.1921e-07 - acc: 0.0102 - val_loss: 1.1921e-07 - val_acc: 0.0084\n",
      "Epoch 23/25\n",
      "45000/45000 [==============================] - 165s - loss: 1.1921e-07 - acc: 0.0102 - val_loss: 1.1921e-07 - val_acc: 0.0084\n",
      "Epoch 24/25\n",
      "45000/45000 [==============================] - 153s - loss: 1.1921e-07 - acc: 0.0102 - val_loss: 1.1921e-07 - val_acc: 0.0084\n",
      "Epoch 25/25\n",
      "45000/45000 [==============================] - 156s - loss: 1.1921e-07 - acc: 0.0102 - val_loss: 1.1921e-07 - val_acc: 0.0084\n"
     ]
    }
   ],
   "source": [
    "ck = np.zeros((20,len(x_train),100))\n",
    "for i in range(len(x_train)):\n",
    "    for j in range(20):\n",
    "        ck[j,i] = C2K_dot[j]\n",
    "\n",
    "index= 0\n",
    "step = 25\n",
    "\n",
    "model.fit([x_train, ck[0], ck[1], ck[2], ck[3], ck[4], ck[5], ck[6], ck[7], ck[8], ck[9], ck[10], ck[11], ck[12], ck[13], ck[14], ck[15], ck[16], ck[17], ck[18], ck[19]],\\\n",
    "          y_train_adj, epochs=step, batch_size=256, validation_split=.1)\n",
    "model.save_weights('data/models/layer_'+str(index))"
   ]
  },
  {
   "cell_type": "markdown",
   "metadata": {},
   "source": [
    "**Fit on dataset delayed (for use in browsers)**\n",
    "\n",
    "This is a complex network and the dataset is not small either so this may occasionally crash if run in a browser. \n",
    "\n",
    "In the case that it does, use this function to incrementally train the network 5 (# can be changed if necessary), save the model and then reload it for the next increment of training."
   ]
  },
  {
   "cell_type": "code",
   "execution_count": 22,
   "metadata": {},
   "outputs": [
    {
     "name": "stdout",
     "output_type": "stream",
     "text": [
      "Train on 45000 samples, validate on 5000 samples\n",
      "Epoch 31/50\n",
      "45000/45000 [==============================] - 49s - loss: 3.2864 - acc: 0.2065 - val_loss: 3.3163 - val_acc: 0.2038\n",
      "Epoch 32/50\n",
      "45000/45000 [==============================] - 69s - loss: 3.2859 - acc: 0.2023 - val_loss: 3.2988 - val_acc: 0.2126\n",
      "Epoch 33/50\n",
      "45000/45000 [==============================] - 80s - loss: 3.2738 - acc: 0.2055 - val_loss: 3.3011 - val_acc: 0.2078\n",
      "Epoch 34/50\n",
      "45000/45000 [==============================] - 49s - loss: 3.2796 - acc: 0.2030 - val_loss: 3.4280 - val_acc: 0.1874\n",
      "Epoch 35/50\n",
      "45000/45000 [==============================] - 47s - loss: 3.2689 - acc: 0.2062 - val_loss: 3.2695 - val_acc: 0.2108\n",
      "Epoch 36/50\n",
      "45000/45000 [==============================] - 52s - loss: 3.2595 - acc: 0.2053 - val_loss: 3.2568 - val_acc: 0.2138\n",
      "Epoch 37/50\n",
      "45000/45000 [==============================] - 50s - loss: 3.2544 - acc: 0.2094 - val_loss: 3.2536 - val_acc: 0.2162\n",
      "Epoch 38/50\n",
      "45000/45000 [==============================] - 54s - loss: 3.2514 - acc: 0.2100 - val_loss: 3.2848 - val_acc: 0.2106\n",
      "Epoch 39/50\n",
      "45000/45000 [==============================] - 49s - loss: 3.2455 - acc: 0.2134 - val_loss: 3.2623 - val_acc: 0.2196\n",
      "Epoch 40/50\n",
      "45000/45000 [==============================] - 43s - loss: 3.2340 - acc: 0.2093 - val_loss: 3.1681 - val_acc: 0.2330\n",
      "Epoch 41/50\n",
      "45000/45000 [==============================] - 44s - loss: 3.2357 - acc: 0.2127 - val_loss: 3.3066 - val_acc: 0.2076\n",
      "Epoch 42/50\n",
      "45000/45000 [==============================] - 47s - loss: 3.2354 - acc: 0.2127 - val_loss: 3.2468 - val_acc: 0.2142\n",
      "Epoch 43/50\n",
      "45000/45000 [==============================] - 49s - loss: 3.2267 - acc: 0.2135 - val_loss: 3.1975 - val_acc: 0.2256\n",
      "Epoch 44/50\n",
      "45000/45000 [==============================] - 51s - loss: 3.2201 - acc: 0.2146 - val_loss: 3.1880 - val_acc: 0.2258\n",
      "Epoch 45/50\n",
      "45000/45000 [==============================] - 47s - loss: 3.2242 - acc: 0.2161 - val_loss: 3.2375 - val_acc: 0.2168\n",
      "Epoch 46/50\n",
      "45000/45000 [==============================] - 50s - loss: 3.2182 - acc: 0.2139 - val_loss: 3.2271 - val_acc: 0.2310\n",
      "Epoch 47/50\n",
      "45000/45000 [==============================] - 48s - loss: 3.2152 - acc: 0.2162 - val_loss: 3.2267 - val_acc: 0.2176\n",
      "Epoch 48/50\n",
      "45000/45000 [==============================] - 49s - loss: 3.2043 - acc: 0.2181 - val_loss: 3.2666 - val_acc: 0.2126\n",
      "Epoch 49/50\n",
      "45000/45000 [==============================] - 47s - loss: 3.2040 - acc: 0.2197 - val_loss: 3.3065 - val_acc: 0.2078\n",
      "Epoch 50/50\n",
      "45000/45000 [==============================] - 50s - loss: 3.1976 - acc: 0.2187 - val_loss: 3.2490 - val_acc: 0.2190\n"
     ]
    }
   ],
   "source": [
    "while index < 300:\n",
    "    index += step\n",
    "    model.load_weights('data/models/layer_'+str(index-5), by_name=False)\n",
    "    model.fit([x_train, ck[0], ck[1], ck[2], ck[3], ck[4], ck[5], ck[6], ck[7], ck[8], ck[9], ck[10], ck[11], ck[12], ck[13], ck[14], ck[15], ck[16], ck[17], ck[18], ck[19]],\\\n",
    "              y_train_adj, epochs=index+step, batch_size=64, initial_epoch=index, validation_split=.1)\n",
    "    model.save_weights('data/models/layer_'+str(index))"
   ]
  },
  {
   "cell_type": "code",
   "execution_count": 17,
   "metadata": {},
   "outputs": [
    {
     "ename": "ImportError",
     "evalue": "Failed to import pydot. You must install pydot and graphviz for `pydotprint` to work.",
     "output_type": "error",
     "traceback": [
      "\u001b[0;31m---------------------------------------------------------------------------\u001b[0m",
      "\u001b[0;31mImportError\u001b[0m                               Traceback (most recent call last)",
      "\u001b[0;32m<ipython-input-17-18020722eab8>\u001b[0m in \u001b[0;36m<module>\u001b[0;34m()\u001b[0m\n\u001b[1;32m      2\u001b[0m \u001b[0;32mfrom\u001b[0m \u001b[0mkeras\u001b[0m\u001b[0;34m.\u001b[0m\u001b[0mutils\u001b[0m\u001b[0;34m.\u001b[0m\u001b[0mvis_utils\u001b[0m \u001b[0;32mimport\u001b[0m \u001b[0mmodel_to_dot\u001b[0m\u001b[0;34m\u001b[0m\u001b[0m\n\u001b[1;32m      3\u001b[0m \u001b[0;34m\u001b[0m\u001b[0m\n\u001b[0;32m----> 4\u001b[0;31m \u001b[0mSVG\u001b[0m\u001b[0;34m(\u001b[0m\u001b[0mmodel_to_dot\u001b[0m\u001b[0;34m(\u001b[0m\u001b[0mmodel\u001b[0m\u001b[0;34m)\u001b[0m\u001b[0;34m.\u001b[0m\u001b[0mcreate\u001b[0m\u001b[0;34m(\u001b[0m\u001b[0mprog\u001b[0m\u001b[0;34m=\u001b[0m\u001b[0;34m'dot'\u001b[0m\u001b[0;34m,\u001b[0m \u001b[0mformat\u001b[0m\u001b[0;34m=\u001b[0m\u001b[0;34m'svg'\u001b[0m\u001b[0;34m)\u001b[0m\u001b[0;34m)\u001b[0m\u001b[0;34m\u001b[0m\u001b[0m\n\u001b[0m",
      "\u001b[0;32m/Users/justin/anaconda3/envs/p3-ml/lib/python3.6/site-packages/keras/utils/vis_utils.py\u001b[0m in \u001b[0;36mmodel_to_dot\u001b[0;34m(model, show_shapes, show_layer_names)\u001b[0m\n\u001b[1;32m     33\u001b[0m     \u001b[0;32mfrom\u001b[0m \u001b[0;34m.\u001b[0m\u001b[0;34m.\u001b[0m\u001b[0mmodels\u001b[0m \u001b[0;32mimport\u001b[0m \u001b[0mSequential\u001b[0m\u001b[0;34m\u001b[0m\u001b[0m\n\u001b[1;32m     34\u001b[0m \u001b[0;34m\u001b[0m\u001b[0m\n\u001b[0;32m---> 35\u001b[0;31m     \u001b[0m_check_pydot\u001b[0m\u001b[0;34m(\u001b[0m\u001b[0;34m)\u001b[0m\u001b[0;34m\u001b[0m\u001b[0m\n\u001b[0m\u001b[1;32m     36\u001b[0m     \u001b[0mdot\u001b[0m \u001b[0;34m=\u001b[0m \u001b[0mpydot\u001b[0m\u001b[0;34m.\u001b[0m\u001b[0mDot\u001b[0m\u001b[0;34m(\u001b[0m\u001b[0;34m)\u001b[0m\u001b[0;34m\u001b[0m\u001b[0m\n\u001b[1;32m     37\u001b[0m     \u001b[0mdot\u001b[0m\u001b[0;34m.\u001b[0m\u001b[0mset\u001b[0m\u001b[0;34m(\u001b[0m\u001b[0;34m'rankdir'\u001b[0m\u001b[0;34m,\u001b[0m \u001b[0;34m'TB'\u001b[0m\u001b[0;34m)\u001b[0m\u001b[0;34m\u001b[0m\u001b[0m\n",
      "\u001b[0;32m/Users/justin/anaconda3/envs/p3-ml/lib/python3.6/site-packages/keras/utils/vis_utils.py\u001b[0m in \u001b[0;36m_check_pydot\u001b[0;34m()\u001b[0m\n\u001b[1;32m     15\u001b[0m \u001b[0;32mdef\u001b[0m \u001b[0m_check_pydot\u001b[0m\u001b[0;34m(\u001b[0m\u001b[0;34m)\u001b[0m\u001b[0;34m:\u001b[0m\u001b[0;34m\u001b[0m\u001b[0m\n\u001b[1;32m     16\u001b[0m     \u001b[0;32mif\u001b[0m \u001b[0;32mnot\u001b[0m \u001b[0;34m(\u001b[0m\u001b[0mpydot\u001b[0m \u001b[0;32mand\u001b[0m \u001b[0mpydot\u001b[0m\u001b[0;34m.\u001b[0m\u001b[0mfind_graphviz\u001b[0m\u001b[0;34m(\u001b[0m\u001b[0;34m)\u001b[0m\u001b[0;34m)\u001b[0m\u001b[0;34m:\u001b[0m\u001b[0;34m\u001b[0m\u001b[0m\n\u001b[0;32m---> 17\u001b[0;31m         raise ImportError('Failed to import pydot. You must install pydot'\n\u001b[0m\u001b[1;32m     18\u001b[0m                           ' and graphviz for `pydotprint` to work.')\n\u001b[1;32m     19\u001b[0m \u001b[0;34m\u001b[0m\u001b[0m\n",
      "\u001b[0;31mImportError\u001b[0m: Failed to import pydot. You must install pydot and graphviz for `pydotprint` to work."
     ]
    }
   ],
   "source": [
    "from IPython.display import SVG\n",
    "from keras.utils.vis_utils import model_to_dot\n",
    "\n",
    "SVG(model_to_dot(model).create(prog='dot', format='svg'))"
   ]
  },
  {
   "cell_type": "markdown",
   "metadata": {},
   "source": [
    "**Evaluate on testing set**"
   ]
  },
  {
   "cell_type": "code",
   "execution_count": null,
   "metadata": {
    "collapsed": true
   },
   "outputs": [],
   "source": [
    "ct = np.zeros((20,len(x_test),100))\n",
    "for i in range(len(x_test)):\n",
    "    for j in range(20):\n",
    "        ct[j,i] = C2K_dot[j]\n",
    "        \n",
    "model.evaluate([x_test, ck[0], ck[1], ck[2], ck[3], ck[4], ck[5], ck[6], ck[7], ck[8], ck[9], ck[10], ck[11], ck[12], ck[13], ck[14], ck[15], ck[16], ck[17], ck[18], ck[19]],\\\n",
    "          y_test_adj, batch_size=64, verbose=1)"
   ]
  },
  {
   "cell_type": "code",
   "execution_count": null,
   "metadata": {
    "collapsed": true
   },
   "outputs": [],
   "source": []
  }
 ],
 "metadata": {
  "kernelspec": {
   "display_name": "Python 3",
   "language": "python",
   "name": "python3"
  },
  "language_info": {
   "codemirror_mode": {
    "name": "ipython",
    "version": 3
   },
   "file_extension": ".py",
   "mimetype": "text/x-python",
   "name": "python",
   "nbconvert_exporter": "python",
   "pygments_lexer": "ipython3",
   "version": "3.6.1"
  },
  "toc": {
   "colors": {
    "hover_highlight": "#DAA520",
    "running_highlight": "#FF0000",
    "selected_highlight": "#FFD700"
   },
   "moveMenuLeft": true,
   "nav_menu": {
    "height": "12px",
    "width": "252px"
   },
   "navigate_menu": true,
   "number_sections": true,
   "sideBar": true,
   "threshold": 4,
   "toc_cell": false,
   "toc_section_display": "block",
   "toc_window_display": false,
   "widenNotebook": false
  }
 },
 "nbformat": 4,
 "nbformat_minor": 2
}
