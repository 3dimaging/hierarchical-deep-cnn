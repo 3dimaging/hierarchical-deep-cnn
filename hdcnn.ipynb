{
 "cells": [
  {
   "cell_type": "markdown",
   "metadata": {},
   "source": [
    "# Convolutional Neural Networks For Image Recognition"
   ]
  },
  {
   "cell_type": "markdown",
   "metadata": {},
   "source": [
    "## Setup and Imports"
   ]
  },
  {
   "cell_type": "code",
   "execution_count": 1,
   "metadata": {
    "collapsed": true
   },
   "outputs": [],
   "source": [
    "# Setup\n",
    "from __future__ import division, print_function, unicode_literals\n",
    "\n",
    "# Imports\n",
    "import numpy as np\n",
    "import numpy.random as rnd\n",
    "import os\n",
    "\n",
    "# To make make consistent across code blocks\n",
    "rnd.seed(42)\n",
    "\n",
    "# Ploting\n",
    "%matplotlib inline\n",
    "import matplotlib\n",
    "import matplotlib.pyplot as plt\n",
    "plt.rcParams['axes.labelsize'] = 14\n",
    "plt.rcParams['xtick.labelsize'] = 12\n",
    "plt.rcParams['ytick.labelsize'] = 12\n",
    "\n",
    "# Saving Parameters\n",
    "PROJECT_ROOT_DIR = \".\"\n",
    "CHAPTER_ID = \"cnn\"\n",
    "\n",
    "def save_fig(fig_id, tight_layout=True):\n",
    "    path = os.path.join(PROJECT_ROOT_DIR, \"data\", CHAPTER_ID, fig_id + \".png\")\n",
    "    print(\"Saving figure\", fig_id)\n",
    "    if tight_layout:\n",
    "        plt.tight_layout()\n",
    "    plt.savefig(path, format='png', dpi=300)"
   ]
  },
  {
   "cell_type": "markdown",
   "metadata": {},
   "source": [
    "**Import Keras**"
   ]
  },
  {
   "cell_type": "code",
   "execution_count": 2,
   "metadata": {},
   "outputs": [
    {
     "name": "stderr",
     "output_type": "stream",
     "text": [
      "Using TensorFlow backend.\n"
     ]
    }
   ],
   "source": [
    "import keras as kr"
   ]
  },
  {
   "cell_type": "markdown",
   "metadata": {},
   "source": [
    "# Convolutional Neural Network"
   ]
  },
  {
   "cell_type": "markdown",
   "metadata": {},
   "source": [
    "**Load Coarse-To-Fine Mappings**"
   ]
  },
  {
   "cell_type": "code",
   "execution_count": 3,
   "metadata": {
    "collapsed": true
   },
   "outputs": [],
   "source": [
    "# Get Coarse to Fine Mappings\n",
    "C2K = np.loadtxt('C2K.txt', dtype=int)\n",
    "C2K_dot = np.zeros((20,100))\n",
    "for i in range(len(C2K)):\n",
    "    C2K_dot[C2K[i], i] = 1\n",
    "\n",
    "np.set_printoptions(threshold=np.inf)\n",
    "#print(C2K_dot)"
   ]
  },
  {
   "cell_type": "markdown",
   "metadata": {},
   "source": [
    "**Import Dataset**"
   ]
  },
  {
   "cell_type": "code",
   "execution_count": 4,
   "metadata": {
    "collapsed": true
   },
   "outputs": [],
   "source": [
    "from keras.datasets import cifar100\n",
    "(x_train, y_train), (x_test, y_test) = cifar100.load_data(label_mode='fine')"
   ]
  },
  {
   "cell_type": "code",
   "execution_count": 5,
   "metadata": {
    "collapsed": true
   },
   "outputs": [],
   "source": [
    "def to_one_hot(X):\n",
    "    n_values = np.max(X) + 1\n",
    "    y = np.eye(n_values)[X[:,0]]\n",
    "    return y\n",
    "\n",
    "y_train_adj = to_one_hot(y_train)\n",
    "y_test_adj  = to_one_hot(y_test)"
   ]
  },
  {
   "cell_type": "markdown",
   "metadata": {},
   "source": [
    "** Defining Structure**"
   ]
  },
  {
   "cell_type": "code",
   "execution_count": 6,
   "metadata": {
    "collapsed": true
   },
   "outputs": [],
   "source": [
    "def indep_layers(X):\n",
    "    net = Conv2D(6, 2, strides=1, activation='elu', padding='same')(X)\n",
    "    net = MaxPooling2D(pool_size=2, strides=2, padding='same')(net)\n",
    "    net = Conv2D(3, 2, strides=1, activation='elu', padding='same')(net)\n",
    "    net = Conv2D(3, 2, strides=1, activation='elu', padding='same')(net)\n",
    "    net = Conv2D(3, 2, strides=1, activation='elu', padding='same')(net)\n",
    "    net = Flatten()(net)\n",
    "\n",
    "    net = Dense(256, activation='elu')(net)\n",
    "    net = Dropout(0.50)(net)\n",
    "    net = Dense(128, activation='elu')(net)\n",
    "    net = Dropout(0.25)(net)\n",
    "    net = Dense(100, activation='softmax')(net)\n",
    "    \n",
    "    return net"
   ]
  },
  {
   "cell_type": "code",
   "execution_count": 7,
   "metadata": {},
   "outputs": [],
   "source": [
    "from keras.layers import Conv2D, MaxPooling2D, Input, Flatten, Dense, Dropout, multiply, dot\n",
    "#from keras.layers.advanced_activations import relu\n",
    "from keras.backend import constant, relu\n",
    "from keras.models import Model\n",
    "\n",
    "coarse_categories = 20\n",
    "fine_categories = 100\n",
    "sigma = .01\n",
    "\n",
    "input_img = Input(shape=(32, 32, 3), dtype='float32', name='main_input')\n",
    "\n",
    "coarse_to_fine = Input(shape=(100, 20), dtype='float32', name='coarse_to_fine')\n",
    "\n",
    "## SHARED LAYERS\n",
    "conv_shared = Conv2D(12, (4, 4), strides=(1, 1), padding='same', activation='elu')(input_img)\n",
    "pool_shared = MaxPooling2D((2, 2), padding='same')(conv_shared)\n",
    "shared_output = Dropout(0.25)(pool_shared)\n",
    "\n",
    "# COARSE CLASSIFIER\n",
    "# Get the coarse predictions from fine\n",
    "output_c = indep_layers(shared_output)\n",
    "coarse_prob = dot([output_c, constant(C2K_dot)], 1)\n",
    "\n",
    "# FINE CLASSIFIER\n",
    "# Threshold each of the outputs of the coarse predictions\n",
    "threshold = relu(coarse_prob, alpha=sigma, max_value=None)\n",
    "\n",
    "# Create fine prediction tensor\n",
    "output_f = 0*output_c\n",
    "for i in range(20):\n",
    "    # Probabalistic Averaging\n",
    "    fine_output = indep_layers(shared_output)\n",
    "    output_f += fine_output*threshold[i]\n",
    "\n",
    "\n",
    "model = Model(inputs=[input_img, coarse_to_fine], outputs=output_c)\n",
    "model.compile(optimizer='adam',\n",
    "              loss='categorical_crossentropy',\n",
    "              metrics=['accuracy'])\n"
   ]
  },
  {
   "cell_type": "markdown",
   "metadata": {},
   "source": [
    "**Fit Training Data**"
   ]
  },
  {
   "cell_type": "code",
   "execution_count": 17,
   "metadata": {},
   "outputs": [
    {
     "name": "stdout",
     "output_type": "stream",
     "text": [
      "Train on 45000 samples, validate on 5000 samples\n",
      "Epoch 1/50\n",
      "45000/45000 [==============================] - 44s - loss: 3.4708 - acc: 0.1706 - val_loss: 3.4321 - val_acc: 0.1778\n",
      "Epoch 2/50\n",
      "45000/45000 [==============================] - 44s - loss: 3.4497 - acc: 0.1744 - val_loss: 3.4059 - val_acc: 0.1858\n",
      "Epoch 3/50\n",
      "45000/45000 [==============================] - 44s - loss: 3.4344 - acc: 0.1771 - val_loss: 3.4308 - val_acc: 0.1782\n",
      "Epoch 4/50\n",
      "45000/45000 [==============================] - 45s - loss: 3.4214 - acc: 0.1780 - val_loss: 3.4895 - val_acc: 0.1766\n",
      "Epoch 5/50\n",
      "45000/45000 [==============================] - 45s - loss: 3.4049 - acc: 0.1828 - val_loss: 3.4496 - val_acc: 0.1800\n",
      "Epoch 6/50\n",
      "45000/45000 [==============================] - 45s - loss: 3.3918 - acc: 0.1839 - val_loss: 3.4162 - val_acc: 0.1878\n",
      "Epoch 7/50\n",
      "45000/45000 [==============================] - 45s - loss: 3.3800 - acc: 0.1884 - val_loss: 3.4936 - val_acc: 0.1748\n",
      "Epoch 8/50\n",
      "45000/45000 [==============================] - 46s - loss: 3.3760 - acc: 0.1874 - val_loss: 3.3660 - val_acc: 0.1934\n",
      "Epoch 9/50\n",
      "45000/45000 [==============================] - 47s - loss: 3.3696 - acc: 0.1893 - val_loss: 3.2998 - val_acc: 0.2106\n",
      "Epoch 10/50\n",
      "45000/45000 [==============================] - 45s - loss: 3.3500 - acc: 0.1911 - val_loss: 3.4190 - val_acc: 0.1860\n",
      "Epoch 11/50\n",
      "45000/45000 [==============================] - 45s - loss: 3.3461 - acc: 0.1912 - val_loss: 3.4090 - val_acc: 0.1898\n",
      "Epoch 12/50\n",
      "45000/45000 [==============================] - 45s - loss: 3.3383 - acc: 0.1949 - val_loss: 3.3401 - val_acc: 0.1982\n",
      "Epoch 13/50\n",
      "45000/45000 [==============================] - 45s - loss: 3.3286 - acc: 0.1933 - val_loss: 3.2574 - val_acc: 0.2164\n",
      "Epoch 14/50\n",
      "45000/45000 [==============================] - 45s - loss: 3.3222 - acc: 0.1955 - val_loss: 3.2624 - val_acc: 0.2166\n",
      "Epoch 15/50\n",
      "45000/45000 [==============================] - 45s - loss: 3.3095 - acc: 0.2003 - val_loss: 3.3161 - val_acc: 0.1994\n",
      "Epoch 16/50\n",
      "45000/45000 [==============================] - 45s - loss: 3.3056 - acc: 0.2022 - val_loss: 3.3709 - val_acc: 0.1976\n",
      "Epoch 17/50\n",
      "45000/45000 [==============================] - 98s - loss: 3.3007 - acc: 0.1999 - val_loss: 3.3359 - val_acc: 0.1982\n",
      "Epoch 18/50\n",
      "45000/45000 [==============================] - 46s - loss: 3.2922 - acc: 0.2035 - val_loss: 3.2594 - val_acc: 0.2142\n",
      "Epoch 19/50\n",
      "45000/45000 [==============================] - 46s - loss: 3.2845 - acc: 0.2029 - val_loss: 3.2919 - val_acc: 0.2072\n",
      "Epoch 20/50\n",
      "45000/45000 [==============================] - 46s - loss: 3.2833 - acc: 0.2060 - val_loss: 3.2548 - val_acc: 0.2186\n",
      "Epoch 21/50\n",
      "45000/45000 [==============================] - 46s - loss: 3.2702 - acc: 0.2045 - val_loss: 3.2999 - val_acc: 0.2028\n",
      "Epoch 22/50\n",
      "45000/45000 [==============================] - 46s - loss: 3.2673 - acc: 0.2062 - val_loss: 3.2227 - val_acc: 0.2256\n",
      "Epoch 23/50\n",
      "45000/45000 [==============================] - 46s - loss: 3.2685 - acc: 0.2082 - val_loss: 3.2269 - val_acc: 0.2196\n",
      "Epoch 24/50\n",
      "45000/45000 [==============================] - 47s - loss: 3.2643 - acc: 0.2083 - val_loss: 3.2641 - val_acc: 0.2126\n",
      "Epoch 25/50\n",
      "45000/45000 [==============================] - 46s - loss: 3.2592 - acc: 0.2090 - val_loss: 3.2475 - val_acc: 0.2176\n",
      "Epoch 26/50\n",
      "45000/45000 [==============================] - 46s - loss: 3.2470 - acc: 0.2123 - val_loss: 3.2137 - val_acc: 0.2256\n",
      "Epoch 27/50\n",
      "45000/45000 [==============================] - 46s - loss: 3.2437 - acc: 0.2106 - val_loss: 3.1703 - val_acc: 0.2276\n",
      "Epoch 28/50\n",
      "45000/45000 [==============================] - 47s - loss: 3.2339 - acc: 0.2109 - val_loss: 3.3042 - val_acc: 0.2090\n",
      "Epoch 29/50\n",
      "45000/45000 [==============================] - 47s - loss: 3.2355 - acc: 0.2133 - val_loss: 3.2174 - val_acc: 0.2240\n",
      "Epoch 30/50\n",
      "45000/45000 [==============================] - 47s - loss: 3.2301 - acc: 0.2146 - val_loss: 3.3131 - val_acc: 0.2038\n",
      "Epoch 31/50\n",
      "45000/45000 [==============================] - 47s - loss: 3.2213 - acc: 0.2162 - val_loss: 3.1402 - val_acc: 0.2388\n",
      "Epoch 32/50\n",
      "45000/45000 [==============================] - 47s - loss: 3.2300 - acc: 0.2121 - val_loss: 3.1664 - val_acc: 0.2318\n",
      "Epoch 33/50\n",
      "45000/45000 [==============================] - 47s - loss: 3.2179 - acc: 0.2170 - val_loss: 3.1837 - val_acc: 0.2308\n",
      "Epoch 34/50\n",
      "45000/45000 [==============================] - 48s - loss: 3.2212 - acc: 0.2175 - val_loss: 3.1527 - val_acc: 0.2368\n",
      "Epoch 35/50\n",
      "45000/45000 [==============================] - 48s - loss: 3.2191 - acc: 0.2166 - val_loss: 3.3409 - val_acc: 0.2038\n",
      "Epoch 36/50\n",
      "45000/45000 [==============================] - 48s - loss: 3.2105 - acc: 0.2181 - val_loss: 3.1189 - val_acc: 0.2476\n",
      "Epoch 37/50\n",
      "45000/45000 [==============================] - 47s - loss: 3.2106 - acc: 0.2192 - val_loss: 3.2583 - val_acc: 0.2152\n",
      "Epoch 38/50\n",
      "45000/45000 [==============================] - 45s - loss: 3.1987 - acc: 0.2198 - val_loss: 3.1556 - val_acc: 0.2384\n",
      "Epoch 39/50\n",
      "45000/45000 [==============================] - 46s - loss: 3.2020 - acc: 0.2199 - val_loss: 3.1896 - val_acc: 0.2256\n",
      "Epoch 40/50\n",
      "45000/45000 [==============================] - 46s - loss: 3.2004 - acc: 0.2200 - val_loss: 3.1666 - val_acc: 0.2362\n",
      "Epoch 41/50\n",
      "45000/45000 [==============================] - 46s - loss: 3.1964 - acc: 0.2206 - val_loss: 3.2904 - val_acc: 0.2124\n",
      "Epoch 42/50\n",
      "45000/45000 [==============================] - 47s - loss: 3.1938 - acc: 0.2203 - val_loss: 3.2981 - val_acc: 0.2032\n",
      "Epoch 43/50\n",
      "45000/45000 [==============================] - 47s - loss: 3.1923 - acc: 0.2206 - val_loss: 3.2455 - val_acc: 0.2132\n",
      "Epoch 44/50\n",
      "45000/45000 [==============================] - 50s - loss: 3.1880 - acc: 0.2224 - val_loss: 3.1357 - val_acc: 0.2348\n",
      "Epoch 45/50\n",
      "45000/45000 [==============================] - 51s - loss: 3.1854 - acc: 0.2226 - val_loss: 3.1709 - val_acc: 0.2320\n",
      "Epoch 46/50\n",
      "45000/45000 [==============================] - 48s - loss: 3.1810 - acc: 0.2235 - val_loss: 3.1404 - val_acc: 0.2382\n",
      "Epoch 47/50\n",
      "45000/45000 [==============================] - 48s - loss: 3.1801 - acc: 0.2241 - val_loss: 3.2347 - val_acc: 0.2166\n",
      "Epoch 48/50\n",
      "45000/45000 [==============================] - 48s - loss: 3.1681 - acc: 0.2273 - val_loss: 3.1321 - val_acc: 0.2338\n",
      "Epoch 49/50\n",
      "45000/45000 [==============================] - 48s - loss: 3.1745 - acc: 0.2249 - val_loss: 3.2675 - val_acc: 0.2182\n",
      "Epoch 50/50\n",
      "45000/45000 [==============================] - 48s - loss: 3.1684 - acc: 0.2257 - val_loss: 3.1982 - val_acc: 0.2194\n"
     ]
    }
   ],
   "source": [
    "## TODO EXTEND y_train to one-hot enconding\n",
    "model.fit(x_train, y_train_adj, epochs=50, batch_size=64, validation_split=.1)\n",
    "model.save_weights('data/models/layer_'+str(index))"
   ]
  },
  {
   "cell_type": "markdown",
   "metadata": {},
   "source": [
    "**Fit on dataset delayed (for use in browsers)**"
   ]
  },
  {
   "cell_type": "code",
   "execution_count": 10,
   "metadata": {},
   "outputs": [
    {
     "name": "stdout",
     "output_type": "stream",
     "text": [
      "Epoch 6/10\n",
      "50000/50000 [==============================] - 49s - loss: 3.7602 - acc: 0.1163    \n",
      "Epoch 7/10\n",
      "50000/50000 [==============================] - 47s - loss: 3.7095 - acc: 0.1279    \n",
      "Epoch 8/10\n",
      "50000/50000 [==============================] - 48s - loss: 3.6699 - acc: 0.1338    \n",
      "Epoch 9/10\n",
      "50000/50000 [==============================] - 46s - loss: 3.6376 - acc: 0.1401    \n",
      "Epoch 10/10\n",
      "50000/50000 [==============================] - 51s - loss: 3.6109 - acc: 0.1454    \n"
     ]
    }
   ],
   "source": [
    "index = 5\n",
    "model.load_weights('data/models/layer_'+str(index), by_name=False)\n",
    "model.fit(x_train, y_train_adj, epochs=index+5, batch_size=64, initial_epoch=index, validation_split=.1)\n",
    "model.save_weights('data/models/layer_'+str(index))"
   ]
  },
  {
   "cell_type": "markdown",
   "metadata": {},
   "source": [
    "**Evaluate on testing set**"
   ]
  },
  {
   "cell_type": "code",
   "execution_count": 18,
   "metadata": {},
   "outputs": [
    {
     "name": "stdout",
     "output_type": "stream",
     "text": [
      " 9856/10000 [============================>.] - ETA: 0s"
     ]
    },
    {
     "data": {
      "text/plain": [
       "[3.1636506732940672, 0.23710000000000001]"
      ]
     },
     "execution_count": 18,
     "metadata": {},
     "output_type": "execute_result"
    }
   ],
   "source": [
    "model.evaluate(x_test, y_test_adj, batch_size=64, verbose=1)"
   ]
  },
  {
   "cell_type": "code",
   "execution_count": null,
   "metadata": {
    "collapsed": true
   },
   "outputs": [],
   "source": []
  }
 ],
 "metadata": {
  "kernelspec": {
   "display_name": "Python 3",
   "language": "python",
   "name": "python3"
  },
  "language_info": {
   "codemirror_mode": {
    "name": "ipython",
    "version": 3
   },
   "file_extension": ".py",
   "mimetype": "text/x-python",
   "name": "python",
   "nbconvert_exporter": "python",
   "pygments_lexer": "ipython3",
   "version": "3.6.1"
  },
  "toc": {
   "colors": {
    "hover_highlight": "#DAA520",
    "running_highlight": "#FF0000",
    "selected_highlight": "#FFD700"
   },
   "moveMenuLeft": true,
   "nav_menu": {
    "height": "12px",
    "width": "252px"
   },
   "navigate_menu": true,
   "number_sections": true,
   "sideBar": true,
   "threshold": 4,
   "toc_cell": false,
   "toc_section_display": "block",
   "toc_window_display": false,
   "widenNotebook": false
  }
 },
 "nbformat": 4,
 "nbformat_minor": 2
}
